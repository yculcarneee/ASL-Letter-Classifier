{
 "cells": [
  {
   "cell_type": "markdown",
   "metadata": {},
   "source": [
    "# CS 273P Final Project Notebook\n",
    "\n",
    "## Project Topic - Classification of American Sign Language Letters using Convolutional Neural Networks\n",
    "\n",
    "### Members - Yash Uday Kulkarni, Kenneth Tony Chungath\n",
    "\n",
    "### This is a Kaggle kernel so it won't be executed on a normal machine. Please fork and run the Kaggle kernel to execute this notebook. \n",
    "\n",
    "### Link: https://www.kaggle.com/yashudaykulkarni/model-training\n",
    "\n",
    "### Link of Model: https://drive.google.com/file/d/1lQdHNOHApjlK2lRdfL0LRSUNYVkqDGmV/view?usp=sharing"
   ]
  },
  {
   "cell_type": "code",
   "execution_count": 1,
   "metadata": {},
   "outputs": [
    {
     "name": "stdout",
     "output_type": "stream",
     "text": [
      "Collecting torchsummary\n",
      "  Downloading torchsummary-1.5.1-py3-none-any.whl (2.8 kB)\n",
      "Installing collected packages: torchsummary\n",
      "Successfully installed torchsummary-1.5.1\n"
     ]
    }
   ],
   "source": [
    "!pip install torchsummary"
   ]
  },
  {
   "cell_type": "code",
   "execution_count": 2,
   "metadata": {},
   "outputs": [],
   "source": [
    "from torchvision import datasets\n",
    "from torchvision import models\n",
    "from torchvision import transforms\n",
    "from torch import optim, cuda\n",
    "from torch.utils.data.sampler import SubsetRandomSampler\n",
    "from torch.utils.data import DataLoader\n",
    "from torchsummary import summary\n",
    "import seaborn as sns\n",
    "import torch.nn as nn\n",
    "import torch\n",
    "import numpy as np\n",
    "import matplotlib.image as mpimg\n",
    "import matplotlib.pyplot as plt\n",
    "import time \n",
    "import pandas as pd\n",
    "import warnings\n",
    "import random\n",
    "warnings.filterwarnings('ignore', category=FutureWarning)\n",
    "from PIL import Image"
   ]
  },
  {
   "cell_type": "code",
   "execution_count": 3,
   "metadata": {},
   "outputs": [],
   "source": [
    "gpu_flag = cuda.is_available()\n",
    "if not gpu_flag:\n",
    "    print(\"Please use GPU to run this notebook\")"
   ]
  },
  {
   "cell_type": "code",
   "execution_count": 4,
   "metadata": {},
   "outputs": [],
   "source": [
    "index_to_char_map = {0: 'A', 1: 'B', 2: 'C', 3: 'D', 4: 'E', 5: 'F', 6: 'G', 7: 'H', 8: 'I', 9: 'J', 10: 'K', 11: 'L', 12: 'M', 13: 'N', 14: 'O', 15: 'P', 16: 'Q', 17: 'R', 18: 'S', 19: 'T', 20: 'U', 21: 'V', 22: 'W', 23: 'X', 24: 'Y', 25: 'Z', 26: 'del', 27: 'nothing', 28: 'space'}"
   ]
  },
  {
   "cell_type": "code",
   "execution_count": 5,
   "metadata": {},
   "outputs": [],
   "source": [
    "#Parameters\n",
    "dataset_1_dir = '../input/asl-alphabet/asl_alphabet_train/asl_alphabet_train' #Link: https://www.kaggle.com/grassknoted/asl-alphabet\n",
    "dataset_2_dir = '../input/asl-alphabet-new-test/asl-alphabet-test' #Link: https://www.kaggle.com/yashudaykulkarni/asl-alphabet-new-test\n",
    "\n",
    "img_dir = '../input/asl-alphabet/asl_alphabet_test/asl_alphabet_test/'\n",
    "\n",
    "save_file_name_1 = 'vgg_cur_model_transfer_learning_1.pt'\n",
    "save_file_name_2 = 'vgg_cur_model_transfer_learning_2.pt'\n",
    "\n",
    "batch_size = 16\n",
    "lr = 0.001\n",
    "momentum = 0.9\n",
    "num_epochs = 5\n",
    "\n",
    "dataset_1_length = 87000\n",
    "dataset_2_length = 870\n",
    "\n",
    "n_classes = 29\n",
    "\n",
    "train_split_ratio = 0.5\n",
    "val_split_ratio = 0.25"
   ]
  },
  {
   "cell_type": "code",
   "execution_count": 6,
   "metadata": {},
   "outputs": [],
   "source": [
    "image_transforms = {\n",
    "    'train':\n",
    "    transforms.Compose([\n",
    "        transforms.Resize((224, 224)),\n",
    "        transforms.RandomHorizontalFlip(),\n",
    "        transforms.ToTensor(),\n",
    "        transforms.Normalize([0.485, 0.456, 0.406],\n",
    "                             [0.229, 0.224, 0.225])  \n",
    "    ]),\n",
    "    'val':\n",
    "    transforms.Compose([\n",
    "        transforms.Resize((224, 224)),\n",
    "        transforms.ToTensor(),\n",
    "        transforms.Normalize([0.485, 0.456, 0.406], [0.229, 0.224, 0.225])\n",
    "    ]),\n",
    "    'test':\n",
    "    transforms.Compose([\n",
    "        transforms.Resize((224, 224)),\n",
    "        transforms.ToTensor(),\n",
    "        transforms.Normalize([0.485, 0.456, 0.406], [0.229, 0.224, 0.225])\n",
    "    ]),\n",
    "}"
   ]
  },
  {
   "cell_type": "code",
   "execution_count": 7,
   "metadata": {},
   "outputs": [],
   "source": [
    "def dataloader_lengths(dataset_length, train_split_ratio, val_split_ratio):\n",
    "    train_split = int(np.floor(train_split_ratio * dataset_length))\n",
    "    val_split = int(np.floor(val_split_ratio * dataset_length))\n",
    "    \n",
    "    train_dataloader_length = train_split\n",
    "    val_dataloader_length = val_split\n",
    "    test_dataloader_length = dataset_length-(train_dataloader_length + val_dataloader_length)\n",
    "    \n",
    "    return train_dataloader_length, test_dataloader_length, val_dataloader_length"
   ]
  },
  {
   "cell_type": "code",
   "execution_count": 8,
   "metadata": {},
   "outputs": [],
   "source": [
    "def split_dataset(dataset_length, train_split_length, val_split_length, dataset):\n",
    "    indices = list(range(dataset_length))\n",
    "        \n",
    "    np.random.shuffle(indices)\n",
    "\n",
    "    train_indices = indices[:train_split_length]\n",
    "    val_indices = indices[train_split_length:train_split_length+val_split_length]\n",
    "    test_indices = indices[train_split_length+val_split_length:] \n",
    "    \n",
    "    train_indices_df = pd.DataFrame(train_indices)\n",
    "    train_indices_df.to_csv('train_indices_' + str(dataset) + '_vals.csv', index=False)\n",
    "    \n",
    "    test_indices_df = pd.DataFrame(test_indices)\n",
    "    test_indices_df.to_csv('test_indices_' + str(dataset) + '_vals.csv', index=False)\n",
    "    \n",
    "    val_indices_df = pd.DataFrame(val_indices)\n",
    "    val_indices_df.to_csv('val_indices_' + str(dataset) + '_vals.csv', index=False)\n",
    "\n",
    "    return train_indices, test_indices, val_indices"
   ]
  },
  {
   "cell_type": "code",
   "execution_count": 9,
   "metadata": {},
   "outputs": [],
   "source": [
    "def create_ImageFolder(dataset_dir):\n",
    "    data = {\n",
    "        'train': datasets.ImageFolder(root=dataset_dir, transform=image_transforms['train']),\n",
    "        'val': datasets.ImageFolder(root=dataset_dir, transform=image_transforms['val']),\n",
    "        'test': datasets.ImageFolder(root=dataset_dir, transform=image_transforms['test']),\n",
    "    }\n",
    "    \n",
    "    return data"
   ]
  },
  {
   "cell_type": "code",
   "execution_count": 10,
   "metadata": {},
   "outputs": [],
   "source": [
    "def create_sampler(train_indices, test_indices, val_indices):\n",
    "    train_sampler = SubsetRandomSampler(train_indices)\n",
    "    test_sampler = SubsetRandomSampler(test_indices)\n",
    "    val_sampler = SubsetRandomSampler(val_indices)\n",
    "    \n",
    "    return train_sampler, test_sampler, val_sampler"
   ]
  },
  {
   "cell_type": "code",
   "execution_count": 11,
   "metadata": {},
   "outputs": [],
   "source": [
    "def create_DataLoader(data, train_sampler, test_sampler, val_sampler):\n",
    "    dataloader = {\n",
    "        'train': DataLoader(data['train'], batch_size=batch_size, sampler=train_sampler),\n",
    "        'val': DataLoader(data['val'], batch_size=batch_size, sampler=val_sampler),\n",
    "        'test': DataLoader(data['test'], batch_size=batch_size, sampler=test_sampler),\n",
    "    }\n",
    "    \n",
    "    return dataloader"
   ]
  },
  {
   "cell_type": "code",
   "execution_count": 12,
   "metadata": {},
   "outputs": [],
   "source": [
    "def get_model(pretrained):\n",
    "    if pretrained:\n",
    "        model = models.vgg16_bn(pretrained=True)\n",
    "    else:\n",
    "        model = models.vgg16_bn()\n",
    "    model.classifier = nn.Sequential(nn.Linear(in_features=25088, out_features=4096, bias=True),\n",
    "                                     nn.ReLU(inplace=True),\n",
    "                                     nn.Dropout(p=0.5, inplace=False),\n",
    "                                     nn.Linear(in_features=4096, out_features=4096, bias=True),\n",
    "                                     nn.ReLU(inplace=True),\n",
    "                                     nn.Dropout(p=0.5, inplace=False),\n",
    "                                     nn.Linear(in_features=4096, out_features=29, bias=True)\n",
    "                                    )\n",
    "    criterion = nn.CrossEntropyLoss()\n",
    "    optimizer = optim.SGD(model.parameters(), lr=lr, momentum=momentum)\n",
    "    model = model.to('cuda')\n",
    "    return model, criterion, optimizer"
   ]
  },
  {
   "cell_type": "code",
   "execution_count": 13,
   "metadata": {},
   "outputs": [],
   "source": [
    "def save_model(model, save_file_name):\n",
    "    torch.save(model.state_dict(), save_file_name)"
   ]
  },
  {
   "cell_type": "code",
   "execution_count": 14,
   "metadata": {},
   "outputs": [],
   "source": [
    "def train_model(model, train_dataloader, train_dataloader_length, val_dataloader, val_dataloader_length, criterion, optimizer, num_epochs, save_file_name):\n",
    "    val_loss_min = np.Inf\n",
    "    \n",
    "    #Lists to store model stats\n",
    "    model_train_acc = np.zeros(num_epochs)\n",
    "    model_val_acc = np.zeros(num_epochs)\n",
    "    model_train_loss = np.zeros(num_epochs)\n",
    "    model_val_loss = np.zeros(num_epochs)\n",
    "    \n",
    "    begin_time = time.time()\n",
    "    \n",
    "    for epoch in range(num_epochs):\n",
    "        print('Epoch ' + str(epoch))\n",
    "        \n",
    "        cur_epoch_train_loss, cur_epoch_val_loss = 0.0, 0.0\n",
    "        cur_epoch_train_acc, cur_epoch_val_acc = 0, 0\n",
    "        \n",
    "        #Set the model to training mode\n",
    "        model.train()\n",
    "        \n",
    "        for features, labels in train_dataloader:\n",
    "            #Move feature and label tensors on CUDA\n",
    "            features = features.cuda()\n",
    "            labels = labels.cuda()\n",
    "                \n",
    "            #Calculate output and loss of the model and perform backpropogation\n",
    "            optimizer.zero_grad()\n",
    "            output = model(features) \n",
    "            loss = criterion(output, labels)\n",
    "            loss.backward()\n",
    "            optimizer.step()\n",
    "\n",
    "            #Calculate training loss and accuracy values for current epoch\n",
    "            cur_epoch_train_loss += loss.item() * features.size(0)\n",
    "            _, pred = torch.max(output, dim=1)\n",
    "            cur_epoch_train_acc += torch.sum(pred == labels.data)\n",
    "            \n",
    "            #Empty cache \n",
    "            torch.cuda.empty_cache()\n",
    "            del features, labels, output, pred\n",
    "        \n",
    "        model.epochs += 1\n",
    "        \n",
    "        with torch.no_grad():\n",
    "            #Set the model to evaluation mode for calculating validation stats\n",
    "            model.eval()\n",
    "            \n",
    "            for features, labels in val_dataloader:\n",
    "                #Move feature and label tensors on CUDA\n",
    "                features = features.cuda()\n",
    "                labels = labels.cuda()\n",
    "                \n",
    "                #Calculate output and loss of the model \n",
    "                output = model(features)\n",
    "                loss = criterion(output, labels)\n",
    "\n",
    "                #Calculate validation loss and accuracy values for current epoch\n",
    "                cur_epoch_val_loss += loss.item() * features.size(0)\n",
    "                _, pred = torch.max(output, dim=1)\n",
    "                cur_epoch_val_acc += torch.sum(pred == labels.data)\n",
    "            \n",
    "                #Empty cache \n",
    "                torch.cuda.empty_cache()\n",
    "                del features, labels, output, pred\n",
    "                \n",
    "        # Calculate the training and validation loss and accuracy values \n",
    "        cur_epoch_train_loss = cur_epoch_train_loss / train_dataloader_length\n",
    "        model_train_loss[epoch] = cur_epoch_train_loss\n",
    "\n",
    "        cur_epoch_val_loss = cur_epoch_val_loss / val_dataloader_length\n",
    "        model_val_loss[epoch] = cur_epoch_val_loss\n",
    "\n",
    "        cur_epoch_train_acc = cur_epoch_train_acc.double() / train_dataloader_length\n",
    "        model_train_acc[epoch] = cur_epoch_train_acc\n",
    "\n",
    "        cur_epoch_val_acc = cur_epoch_val_acc.double() / val_dataloader_length\n",
    "        model_val_acc[epoch] = cur_epoch_val_acc\n",
    "\n",
    "        print('Training Loss - ' + str(round(cur_epoch_train_loss, 2)) + ' Training Accuracy - ' + str(round(cur_epoch_train_acc.item() * 100, 2)) + '%')\n",
    "        print('Validation Loss - ' + str(round(cur_epoch_val_loss, 2)) + ' Validation Accuracy - ' + str(round(cur_epoch_val_acc.item() * 100, 2)) + '%')\n",
    "        print('Time elapsed - ' + str(round(time.time() - begin_time, 2)) + ' secs')\n",
    "        print()\n",
    "\n",
    "        #Save best model and epoch stats\n",
    "        if cur_epoch_val_loss < val_loss_min:                \n",
    "            save_model(model, save_file_name)\n",
    "            best_epoch = epoch\n",
    "            val_loss_min = cur_epoch_val_loss\n",
    "            best_val_acc = cur_epoch_val_acc.double()\n",
    "    \n",
    "    total_time = time.time() - begin_time\n",
    "    \n",
    "    print('Training Complete!')\n",
    "    print('Best epoch - ' + str(best_epoch))\n",
    "    print('Final Validation Loss - ' + str(round(val_loss_min, 4)))\n",
    "    print('Final Validation Accuracy - ' + str(round(best_val_acc.item() * 100, 2)) + '%')\n",
    "                    \n",
    "    return model, model_train_loss, model_train_acc, model_val_loss, model_val_acc"
   ]
  },
  {
   "cell_type": "code",
   "execution_count": 15,
   "metadata": {},
   "outputs": [],
   "source": [
    "def generate_freq_class_dataloader(dataloader):\n",
    "    freq_list = np.zeros(29)\n",
    "\n",
    "    for step, (images, labels) in enumerate(dataloader):\n",
    "        for label in labels:\n",
    "            freq_list[label] += 1\n",
    "        del images, labels\n",
    "\n",
    "    return freq_list"
   ]
  },
  {
   "cell_type": "code",
   "execution_count": 16,
   "metadata": {},
   "outputs": [],
   "source": [
    "def eval_model(test_dataloader, test_dataloader_length, freq_list):\n",
    "    test_loss = 0.0\n",
    "    test_acc = 0.0\n",
    "    \n",
    "    acc_every_class = np.zeros(29)\n",
    "        \n",
    "    for features, labels in test_dataloader:\n",
    "        #Set the model to evaluation mode for calculating testing stats\n",
    "        model.eval()\n",
    "        \n",
    "        #Move feature and label tensors on CUDA\n",
    "        features = features.cuda()\n",
    "        labels = labels.cuda()\n",
    "            \n",
    "        #Calculate output and loss of the model \n",
    "        output = model(features)\n",
    "        loss = criterion(output, labels)\n",
    "        \n",
    "        #Calculate testing loss and accuracy values for current epoch\n",
    "        test_loss += loss.item() * features.size(0)\n",
    "        _, pred = torch.max(output, dim=1)\n",
    "        test_acc += torch.sum(pred == labels.data)\n",
    "        \n",
    "        #Calculate the accuracy per class of the dataset for model\n",
    "        for i, (p, label) in enumerate(zip(pred, labels)):\n",
    "            acc_every_class[label] += (pred[i] == labels[i])\n",
    "        \n",
    "        #Empty cache \n",
    "        torch.cuda.empty_cache()\n",
    "        del features, labels, output, pred\n",
    "    \n",
    "    # Calculate the testing loss and accuracy values \n",
    "    test_acc = test_acc.double() / test_dataloader_length\n",
    "    test_loss = test_loss / test_dataloader_length\n",
    "    \n",
    "    for i in range(len(acc_every_class)):\n",
    "        acc_every_class[i] = acc_every_class[i] / freq_list[i]\n",
    "        \n",
    "    return test_acc, test_loss, acc_every_class"
   ]
  },
  {
   "cell_type": "markdown",
   "metadata": {},
   "source": [
    "## Set up ImageFolder and DataLoader of training, testing and validation sets of Datasets 1 and 2"
   ]
  },
  {
   "cell_type": "code",
   "execution_count": 17,
   "metadata": {},
   "outputs": [],
   "source": [
    "train_dataloader_1_length, test_dataloader_1_length, val_dataloader_1_length = dataloader_lengths(dataset_1_length, train_split_ratio, val_split_ratio)"
   ]
  },
  {
   "cell_type": "code",
   "execution_count": 18,
   "metadata": {},
   "outputs": [],
   "source": [
    "train_dataloader_2_length, test_dataloader_2_length, val_dataloader_2_length = dataloader_lengths(dataset_2_length, train_split_ratio, val_split_ratio)"
   ]
  },
  {
   "cell_type": "code",
   "execution_count": 19,
   "metadata": {},
   "outputs": [],
   "source": [
    "train_indices_1, test_indices_1, val_indices_1 = split_dataset(dataset_1_length, train_dataloader_1_length, val_dataloader_1_length, 1)"
   ]
  },
  {
   "cell_type": "code",
   "execution_count": 20,
   "metadata": {},
   "outputs": [],
   "source": [
    "train_indices_2, test_indices_2, val_indices_2 = split_dataset(dataset_2_length, train_dataloader_2_length, val_dataloader_2_length, 2)"
   ]
  },
  {
   "cell_type": "code",
   "execution_count": 21,
   "metadata": {},
   "outputs": [],
   "source": [
    "train_sampler_1, test_sampler_1, val_sampler_1 = create_sampler(train_indices_1, test_indices_1, val_indices_1)"
   ]
  },
  {
   "cell_type": "code",
   "execution_count": 22,
   "metadata": {},
   "outputs": [],
   "source": [
    "train_sampler_2, test_sampler_2, val_sampler_2 = create_sampler(train_indices_2, test_indices_2, val_indices_2)"
   ]
  },
  {
   "cell_type": "code",
   "execution_count": 23,
   "metadata": {},
   "outputs": [],
   "source": [
    "data_1 = create_ImageFolder(dataset_1_dir)"
   ]
  },
  {
   "cell_type": "code",
   "execution_count": 24,
   "metadata": {},
   "outputs": [],
   "source": [
    "data_2 = create_ImageFolder(dataset_2_dir)"
   ]
  },
  {
   "cell_type": "code",
   "execution_count": 25,
   "metadata": {},
   "outputs": [],
   "source": [
    "dataloader_1 = create_DataLoader(data_1, train_sampler_1, test_sampler_1, val_sampler_1)"
   ]
  },
  {
   "cell_type": "code",
   "execution_count": 26,
   "metadata": {},
   "outputs": [],
   "source": [
    "dataloader_2 = create_DataLoader(data_2, train_sampler_2, test_sampler_2, val_sampler_2)"
   ]
  },
  {
   "cell_type": "markdown",
   "metadata": {},
   "source": [
    "## Train the pre-trained model for 5 epochs on Dataset 1"
   ]
  },
  {
   "cell_type": "code",
   "execution_count": 29,
   "metadata": {},
   "outputs": [
    {
     "name": "stderr",
     "output_type": "stream",
     "text": [
      "Downloading: \"https://download.pytorch.org/models/vgg16_bn-6c64b313.pth\" to /root/.cache/torch/checkpoints/vgg16_bn-6c64b313.pth\n"
     ]
    },
    {
     "data": {
      "application/vnd.jupyter.widget-view+json": {
       "model_id": "db1e8038677e46d39832a179715eb0b0",
       "version_major": 2,
       "version_minor": 0
      },
      "text/plain": [
       "HBox(children=(FloatProgress(value=0.0, max=553507836.0), HTML(value='')))"
      ]
     },
     "metadata": {},
     "output_type": "display_data"
    },
    {
     "name": "stdout",
     "output_type": "stream",
     "text": [
      "\n"
     ]
    }
   ],
   "source": [
    "model, criterion, optimizer = get_model(pretrained=True)"
   ]
  },
  {
   "cell_type": "code",
   "execution_count": 30,
   "metadata": {},
   "outputs": [],
   "source": [
    "model.epochs = 0"
   ]
  },
  {
   "cell_type": "code",
   "execution_count": 31,
   "metadata": {},
   "outputs": [
    {
     "name": "stdout",
     "output_type": "stream",
     "text": [
      "Epoch 0\n",
      "Training Loss - 0.56 Training Accuracy - 84.21%\n",
      "Validation Loss - 0.03 Validation Accuracy - 99.4%\n",
      "Time elapsed - 978.25 secs\n",
      "\n",
      "Epoch 1\n",
      "Training Loss - 0.01 Training Accuracy - 99.82%\n",
      "Validation Loss - 0.0 Validation Accuracy - 99.96%\n",
      "Time elapsed - 1838.91 secs\n",
      "\n",
      "Epoch 2\n",
      "Training Loss - 0.0 Training Accuracy - 99.91%\n",
      "Validation Loss - 0.0 Validation Accuracy - 100.0%\n",
      "Time elapsed - 2702.39 secs\n",
      "\n",
      "Epoch 3\n",
      "Training Loss - 0.0 Training Accuracy - 99.96%\n",
      "Validation Loss - 0.0 Validation Accuracy - 99.86%\n",
      "Time elapsed - 3582.11 secs\n",
      "\n",
      "Epoch 4\n",
      "Training Loss - 0.0 Training Accuracy - 99.96%\n",
      "Validation Loss - 0.0 Validation Accuracy - 99.99%\n",
      "Time elapsed - 4455.94 secs\n",
      "\n",
      "Training Complete!\n",
      "Best epoch - 4\n",
      "Final Validation Loss - 0.0003\n",
      "Final Validation Accuracy - 99.99%\n"
     ]
    }
   ],
   "source": [
    "model, model_train_loss_1, model_train_acc_1, model_val_loss_1, model_val_acc_1 = train_model(model, dataloader_1['train'], train_dataloader_1_length, dataloader_1['val'], val_dataloader_1_length, criterion, optimizer, num_epochs, save_file_name_1)"
   ]
  },
  {
   "cell_type": "markdown",
   "metadata": {},
   "source": [
    "## Plot epochs vs Training and Validation Losses for Dataset 1"
   ]
  },
  {
   "cell_type": "code",
   "execution_count": 32,
   "metadata": {},
   "outputs": [
    {
     "data": {
      "image/png": "[encoded data removed]",
      "text/plain": [
       "<Figure size 576x432 with 1 Axes>"
      ]
     },
     "metadata": {
      "needs_background": "light"
     },
     "output_type": "display_data"
    }
   ],
   "source": [
    "plt.figure(figsize=(8, 6))\n",
    "plt.plot(model_train_loss_1, label='Training Loss')\n",
    "plt.plot(model_val_loss_1, label='Validation Loss')\n",
    "plt.legend()\n",
    "plt.xlabel('Epochs')\n",
    "plt.ylabel('Average Cross Entropy Loss')\n",
    "plt.title('Training and Validation Losses - Dataset 1')\n",
    "plt.savefig('loss_graph.png')"
   ]
  },
  {
   "cell_type": "markdown",
   "metadata": {},
   "source": [
    "## Plot epochs vs Training and Validation Accuracy for Dataset 1"
   ]
  },
  {
   "cell_type": "code",
   "execution_count": 33,
   "metadata": {},
   "outputs": [
    {
     "data": {
      "image/png": "[encoded data removed]",
      "text/plain": [
       "<Figure size 576x432 with 1 Axes>"
      ]
     },
     "metadata": {
      "needs_background": "light"
     },
     "output_type": "display_data"
    }
   ],
   "source": [
    "plt.figure(figsize=(8, 6))\n",
    "plt.plot(model_train_acc_1, label='Training Accuracy')\n",
    "plt.plot(model_val_acc_1, label='Validation Accuracy')\n",
    "plt.legend()\n",
    "plt.xlabel('Epochs')\n",
    "plt.ylabel('Accuracy')\n",
    "plt.title('Training and Validation Accuracy - Dataset 1')\n",
    "plt.savefig('accuracy_graph.png')"
   ]
  },
  {
   "cell_type": "markdown",
   "metadata": {},
   "source": [
    "## Evaluate the model on testing set of Dataset 1"
   ]
  },
  {
   "cell_type": "code",
   "execution_count": 34,
   "metadata": {},
   "outputs": [],
   "source": [
    "freq_list_test_1 = generate_freq_class_dataloader(dataloader_1['test'])"
   ]
  },
  {
   "cell_type": "code",
   "execution_count": 35,
   "metadata": {},
   "outputs": [],
   "source": [
    "test_acc_1, test_loss_1, acc_every_class_1 = eval_model(dataloader_1['test'], test_dataloader_1_length, freq_list_test_1)"
   ]
  },
  {
   "cell_type": "markdown",
   "metadata": {},
   "source": [
    "### Accuracy and Losses of model on testing set of Dataset 1"
   ]
  },
  {
   "cell_type": "code",
   "execution_count": 36,
   "metadata": {},
   "outputs": [
    {
     "name": "stdout",
     "output_type": "stream",
     "text": [
      "99.99540229885058 0.00028696253107882093\n"
     ]
    }
   ],
   "source": [
    "print(test_acc_1.item() * 100, test_loss_1)"
   ]
  },
  {
   "cell_type": "markdown",
   "metadata": {},
   "source": [
    "### Accuracy of every class of Dataset 1 by model on testing set of Dataset 1"
   ]
  },
  {
   "cell_type": "code",
   "execution_count": 37,
   "metadata": {},
   "outputs": [
    {
     "name": "stdout",
     "output_type": "stream",
     "text": [
      "[100.         100.         100.         100.         100.\n",
      " 100.         100.         100.         100.         100.\n",
      " 100.         100.         100.         100.         100.\n",
      " 100.         100.         100.         100.         100.\n",
      " 100.         100.         100.         100.         100.\n",
      " 100.          99.86282579 100.         100.        ]\n"
     ]
    }
   ],
   "source": [
    "print(acc_every_class_1 * 100)"
   ]
  },
  {
   "cell_type": "markdown",
   "metadata": {},
   "source": [
    "## Evaluate the model on testing set of Dataset 2"
   ]
  },
  {
   "cell_type": "code",
   "execution_count": 38,
   "metadata": {},
   "outputs": [],
   "source": [
    "freq_list_test_2 = generate_freq_class_dataloader(dataloader_2['test'])"
   ]
  },
  {
   "cell_type": "code",
   "execution_count": 39,
   "metadata": {},
   "outputs": [],
   "source": [
    "test_acc_2, test_loss_2, acc_every_class_2 = eval_model(dataloader_2['test'], test_dataloader_2_length, freq_list_test_2)"
   ]
  },
  {
   "cell_type": "markdown",
   "metadata": {},
   "source": [
    "### Accuracy and Losses of model on testing set of Dataset 2"
   ]
  },
  {
   "cell_type": "code",
   "execution_count": 40,
   "metadata": {},
   "outputs": [
    {
     "name": "stdout",
     "output_type": "stream",
     "text": [
      "55.5045871559633 3.408568880973606\n"
     ]
    }
   ],
   "source": [
    "print(test_acc_2.item() * 100, test_loss_2)"
   ]
  },
  {
   "cell_type": "markdown",
   "metadata": {},
   "source": [
    "### Accuracy of every class of Dataset 1 by model on testing set of Dataset 2"
   ]
  },
  {
   "cell_type": "code",
   "execution_count": 41,
   "metadata": {},
   "outputs": [
    {
     "name": "stdout",
     "output_type": "stream",
     "text": [
      "[ 22.22222222  25.           0.          77.77777778  25.\n",
      "  57.14285714   0.         100.          42.85714286  88.88888889\n",
      " 100.         100.          55.55555556  77.77777778  50.\n",
      " 100.         100.          57.14285714  25.           0.\n",
      "  55.55555556  37.5        100.          44.44444444 100.\n",
      "  50.          55.55555556  20.         100.        ]\n"
     ]
    }
   ],
   "source": [
    "print(acc_every_class_2 * 100)"
   ]
  },
  {
   "cell_type": "markdown",
   "metadata": {},
   "source": [
    "## Train the pre-trained model for 5 epochs on Dataset 2"
   ]
  },
  {
   "cell_type": "code",
   "execution_count": 42,
   "metadata": {},
   "outputs": [
    {
     "name": "stdout",
     "output_type": "stream",
     "text": [
      "Epoch 0\n",
      "Training Loss - 0.59 Training Accuracy - 83.22%\n",
      "Validation Loss - 0.43 Validation Accuracy - 86.64%\n",
      "Time elapsed - 9.93 secs\n",
      "\n",
      "Epoch 1\n",
      "Training Loss - 0.2 Training Accuracy - 94.48%\n",
      "Validation Loss - 0.28 Validation Accuracy - 93.55%\n",
      "Time elapsed - 19.51 secs\n",
      "\n",
      "Epoch 2\n",
      "Training Loss - 0.12 Training Accuracy - 96.32%\n",
      "Validation Loss - 0.25 Validation Accuracy - 91.71%\n",
      "Time elapsed - 29.39 secs\n",
      "\n",
      "Epoch 3\n",
      "Training Loss - 0.04 Training Accuracy - 98.85%\n",
      "Validation Loss - 0.18 Validation Accuracy - 94.01%\n",
      "Time elapsed - 39.27 secs\n",
      "\n",
      "Epoch 4\n",
      "Training Loss - 0.03 Training Accuracy - 99.54%\n",
      "Validation Loss - 0.14 Validation Accuracy - 94.93%\n",
      "Time elapsed - 49.14 secs\n",
      "\n",
      "Training Complete!\n",
      "Best epoch - 4\n",
      "Final Validation Loss - 0.1378\n",
      "Final Validation Accuracy - 94.93%\n"
     ]
    }
   ],
   "source": [
    "model, model_train_loss_2, model_train_acc_2, model_val_loss_2, model_val_acc_2 = train_model(model, dataloader_2['train'], train_dataloader_2_length, dataloader_2['val'], val_dataloader_2_length, criterion, optimizer, num_epochs, save_file_name_2)"
   ]
  },
  {
   "cell_type": "markdown",
   "metadata": {},
   "source": [
    "## Plot epochs vs Training and Validation Losses for Dataset 2"
   ]
  },
  {
   "cell_type": "code",
   "execution_count": 43,
   "metadata": {},
   "outputs": [
    {
     "data": {
      "image/png": "[encoded data removed]",
      "text/plain": [
       "<Figure size 576x432 with 1 Axes>"
      ]
     },
     "metadata": {
      "needs_background": "light"
     },
     "output_type": "display_data"
    }
   ],
   "source": [
    "plt.figure(figsize=(8, 6))\n",
    "plt.plot(model_train_loss_2, label='Training Loss')\n",
    "plt.plot(model_val_loss_2, label='Validation Loss')\n",
    "plt.legend()\n",
    "plt.xlabel('Epochs')\n",
    "plt.ylabel('Average Cross Entropy Loss')\n",
    "plt.title('Training and Validation Losses - Dataset 2')\n",
    "plt.savefig('loss_graph_new_dataset.png')"
   ]
  },
  {
   "cell_type": "markdown",
   "metadata": {},
   "source": [
    "## Plot epochs vs Training and Validation Accuracy for Dataset 2"
   ]
  },
  {
   "cell_type": "code",
   "execution_count": 44,
   "metadata": {},
   "outputs": [
    {
     "data": {
      "image/png": "[encoded data removed]",
      "text/plain": [
       "<Figure size 576x432 with 1 Axes>"
      ]
     },
     "metadata": {
      "needs_background": "light"
     },
     "output_type": "display_data"
    }
   ],
   "source": [
    "plt.figure(figsize=(8, 6))\n",
    "plt.plot(model_train_acc_2, label='Training Accuracy')\n",
    "plt.plot(model_val_acc_2, label='Validation Accuracy')\n",
    "plt.legend()\n",
    "plt.xlabel('Epochs')\n",
    "plt.ylabel('Accuracy')\n",
    "plt.title('Training and Validation Accuracy - Dataset 2')\n",
    "plt.savefig('accuracy_graph_new_dataset.png')"
   ]
  },
  {
   "cell_type": "markdown",
   "metadata": {},
   "source": [
    "## Evaluate the model on testing set of Dataset 2"
   ]
  },
  {
   "cell_type": "code",
   "execution_count": 45,
   "metadata": {},
   "outputs": [],
   "source": [
    "test_acc_2, test_loss_2, acc_every_class_2 = eval_model(dataloader_2['test'], test_dataloader_2_length, freq_list_test_2)"
   ]
  },
  {
   "cell_type": "markdown",
   "metadata": {},
   "source": [
    "### Accuracy and Losses of model on testing set of Dataset 2"
   ]
  },
  {
   "cell_type": "code",
   "execution_count": 46,
   "metadata": {},
   "outputs": [
    {
     "name": "stdout",
     "output_type": "stream",
     "text": [
      "92.66055045871559 0.24745388971556218\n"
     ]
    }
   ],
   "source": [
    "print(test_acc_2.item() * 100, test_loss_2)"
   ]
  },
  {
   "cell_type": "markdown",
   "metadata": {},
   "source": [
    "### Accuracy of every class of Dataset 2 by model on testing set of Dataset 2"
   ]
  },
  {
   "cell_type": "code",
   "execution_count": 47,
   "metadata": {},
   "outputs": [
    {
     "name": "stdout",
     "output_type": "stream",
     "text": [
      "[ 88.88888889 100.         100.         100.         100.\n",
      "  57.14285714  90.         100.         100.         100.\n",
      "  75.         100.          66.66666667  88.88888889  90.\n",
      " 100.         100.         100.          62.5        100.\n",
      "  77.77777778 100.         100.         100.         100.\n",
      " 100.         100.         100.         100.        ]\n"
     ]
    }
   ],
   "source": [
    "print(acc_every_class_2 * 100)"
   ]
  }
 ],
 "metadata": {
  "kernelspec": {
   "display_name": "Python 3",
   "language": "python",
   "name": "python3"
  },
  "language_info": {
   "codemirror_mode": {
    "name": "ipython",
    "version": 3
   },
   "file_extension": ".py",
   "mimetype": "text/x-python",
   "name": "python",
   "nbconvert_exporter": "python",
   "pygments_lexer": "ipython3",
   "version": "3.7.3"
  }
 },
 "nbformat": 4,
 "nbformat_minor": 4
}
